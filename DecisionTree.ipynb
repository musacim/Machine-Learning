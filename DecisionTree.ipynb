{
 "cells": [
  {
   "cell_type": "markdown",
   "metadata": {},
   "source": [
    "<h1><center><br>Implementing a Regression Tree<br></center></h1>"
   ]
  },
  {
   "cell_type": "markdown",
   "metadata": {},
   "source": [
    "# Introduction\n",
    "\n",
    "Decision trees can learn rules to map features to both continous and discrete outputs. In this quiz, you will consider the continous case and implement a regression tree to predict house prices in Boston. You will also conduct small data analysis and evaluation procedures. This notebook will guide you through."
   ]
  },
  {
   "cell_type": "markdown",
   "metadata": {},
   "source": [
    "## (10 pts) Task 1: Dataset "
   ]
  },
  {
   "cell_type": "markdown",
   "metadata": {},
   "source": [
    "Run the cells below to load Boston house prices dataset using `scikit-learn`. You can find more detail on the dataset [here](https://scikit-learn.org/stable/datasets/index.html#boston-dataset). **Please use the train and test matrices we prepared for you :)**"
   ]
  },
  {
   "cell_type": "code",
   "execution_count": 2,
   "metadata": {},
   "outputs": [],
   "source": [
    "import numpy as np\n",
    "from sklearn.datasets import load_boston\n",
    "import seaborn as sns\n",
    "import pandas as pd\n",
    "import matplotlib.pyplot as plt\n",
    "%matplotlib inline\n"
   ]
  },
  {
   "cell_type": "code",
   "execution_count": 3,
   "metadata": {},
   "outputs": [],
   "source": [
    "boston = load_boston()\n",
    "X_y = np.column_stack([boston['data'], boston['target']])\n",
    "np.random.seed(1)\n",
    "np.random.shuffle(X_y)\n",
    "X, y = X_y[:,:-1], X_y[:,-1]\n",
    "X_train, y_train = X[:400], y[:400]\n",
    "X_test, y_test = X[400:], y[400:]\n",
    "del X, y, X_y"
   ]
  },
  {
   "cell_type": "markdown",
   "metadata": {},
   "source": [
    "**(10 pts)** Unlike the dataset in Project 1, Boston dataset is high-dimensional and we cannot observe the relations between all features and the output with a single scatter plot. What we can do is to visualize the correlations between both features and house prices using a heatmap. So, stack the features and the outputs in a single matrix and compute correlation between all pairs of columns. Visualize the correlation coefficient matrix as a heatmap, which is $(N+1)x(N+1)$, where $N$ is the number of features in Boston dataset. You can check out `corrcoef` and `heatmap` functions from `numpy` and `seaborn` libraries, respectively. You can use diverging color palette to emphasize both positive and negative correlations.\n",
    "\n",
    "Do you observe strong correlations between any pair of features or certain features and house price? "
   ]
  },
  {
   "cell_type": "code",
   "execution_count": 4,
   "metadata": {},
   "outputs": [],
   "source": [
    "#Yes,We observe green squares represents high relation also RM is related highly with Prices,and LSTAT is negatively related \n",
    "feats=boston['feature_names']\n",
    "\n",
    "data=boston['data']\n",
    "\n",
    "Prices=boston['target']\n",
    "\n",
    "df=pd.DataFrame(data,columns=feats)\n",
    "df.insert(loc=13,column=\"Prices\",value=Prices)\n",
    "df_train=df.iloc[0:400,:]\n",
    "df_test=df.iloc[400:,:]\n"
   ]
  },
  {
   "cell_type": "code",
   "execution_count": 5,
   "metadata": {},
   "outputs": [
    {
     "data": {
      "text/plain": [
       "<matplotlib.axes._subplots.AxesSubplot at 0x1fbd5e50bc8>"
      ]
     },
     "execution_count": 5,
     "metadata": {},
     "output_type": "execute_result"
    },
    {
     "data": {
      "image/png": "[encoded data removed]",
      "text/plain": [
       "<Figure size 432x288 with 2 Axes>"
      ]
     },
     "metadata": {
      "needs_background": "light"
     },
     "output_type": "display_data"
    }
   ],
   "source": [
    "ccm=df.corr() # ccm refers to correlation coefficient matrix\n",
    "sns.heatmap(ccm,cmap=['black','red','violet','yellow','seashell','lightskyblue','green'])"
   ]
  },
  {
   "cell_type": "code",
   "execution_count": 6,
   "metadata": {},
   "outputs": [],
   "source": [
    "\n",
    "#Price is positively correlated with RM and negavitely correlated with LSTAT features."
   ]
  },
  {
   "cell_type": "markdown",
   "metadata": {},
   "source": [
    "## (80 pts) Task 2: Regression Tree\n"
   ]
  },
  {
   "cell_type": "markdown",
   "metadata": {},
   "source": [
    "**(15 pts)** Let us now build the regression tree. We start by implementing the splitting criteria which is used to decide the most discriminative features at each step. We stick to lecture notes and use $RSS$ which is computed as follows:\n",
    "\n",
    "$$RSS =\\sum_{\\text {left }}\\left(y_{i}-y_{L}^{*}\\right)^{2}+\\sum_{\\text {right }}\\left(y_{i}-y_{R}^{*}\\right)^{2}$$\n",
    "\n",
    "where $y_L^* and y_L^*$ are mean y-value of left and right nodes.\n",
    "\n",
    "When you implement $RSS$, pick the most correlated and least correlated feature with the output prices according to previous step. Note that correlation can be both positive and negative! For both features, compute $RSS$ for every possible split threshold and plot thresholds versus RSS scores.\n",
    "\n",
    "Do two features display different characteristics?"
   ]
  },
  {
   "cell_type": "code",
   "execution_count": 7,
   "metadata": {},
   "outputs": [],
   "source": [
    "\n",
    "def RSS_Finder(data,Featind):  # we calculate RSS value of data for given feature \n",
    "    \n",
    "    \n",
    "    size=data.iloc[:,-1].size\n",
    "    Score=np.zeros([size,1])\n",
    "    ThresholdMatrix=np.zeros([size,1])\n",
    "    \n",
    "    \n",
    "        \n",
    "    for i in range(size):\n",
    "      \n",
    "        Threshold=data.iloc[i,Featind]                #Thresholds are data points we try one by one\n",
    "         \n",
    "        L=data[data.iloc[:,Featind]<=Threshold]       # we split data into two, according to current threshold\n",
    "        R=data[data.iloc[:,Featind]>=Threshold]       # then find the mean of this two group and calculate RSS\n",
    "        sizeL=L.iloc[:,-1].size\n",
    "        sizeR=R.iloc[:,-1].size\n",
    "        lm=np.mean(L.iloc[:,-1])\n",
    "        rm=np.mean(R.iloc[:,-1])\n",
    "        sum1=0\n",
    "        sum2=0\n",
    "        for j in range(sizeL):\n",
    "            sum1+=np.square(L.iloc[j,-1]-lm)\n",
    "        for j in range(sizeR):\n",
    "            sum2+=np.square(R.iloc[j,-1]-rm)\n",
    "            \n",
    "        \n",
    " \n",
    "        Score[i]=sum1+sum2\n",
    "        ThresholdMatrix[i]=Threshold\n",
    "         \n",
    "     \n",
    "    for i in range(size):\n",
    "         if(Score[i]==np.min(Score)):\n",
    "            ind=i\n",
    "            break\n",
    "    best_Th=ThresholdMatrix[ind]\n",
    "\n",
    "    \n",
    "    return Score,ThresholdMatrix,best_Th[-1],ind\n"
   ]
  },
  {
   "cell_type": "code",
   "execution_count": 8,
   "metadata": {},
   "outputs": [
    {
     "data": {
      "text/plain": [
       "<matplotlib.collections.PathCollection at 0x1fbd7dcd388>"
      ]
     },
     "execution_count": 8,
     "metadata": {},
     "output_type": "execute_result"
    },
    {
     "data": {
      "image/png": "[encoded data removed]",
      "text/plain": [
       "<Figure size 432x288 with 1 Axes>"
      ]
     },
     "metadata": {
      "needs_background": "light"
     },
     "output_type": "display_data"
    }
   ],
   "source": [
    "Score_Matrix,Threshold_Matrix,_,_=RSS_Finder(df_train,5) # the RM column is the most correlated\n",
    "plt.scatter(Threshold_Matrix,Score_Matrix)"
   ]
  },
  {
   "cell_type": "code",
   "execution_count": 9,
   "metadata": {},
   "outputs": [
    {
     "data": {
      "text/plain": [
       "<matplotlib.collections.PathCollection at 0x1fbd7e33588>"
      ]
     },
     "execution_count": 9,
     "metadata": {},
     "output_type": "execute_result"
    },
    {
     "data": {
      "image/png": "[encoded data removed]",
      "text/plain": [
       "<Figure size 432x288 with 1 Axes>"
      ]
     },
     "metadata": {
      "needs_background": "light"
     },
     "output_type": "display_data"
    }
   ],
   "source": [
    "Score_Matrix,Threshold_Matrix,_,_=RSS_Finder(df_train,3) # the CHAOS column is the least correlated\n",
    "plt.scatter(Threshold_Matrix,Score_Matrix)"
   ]
  },
  {
   "cell_type": "code",
   "execution_count": 10,
   "metadata": {},
   "outputs": [],
   "source": [
    "#-Do two features display different characteristics?\n",
    "#Yes, the most correlated column which is named \"RM\" is continous over the thresholds but the least correlated is just has\n",
    "#two values so it does not give us much discriminative information  "
   ]
  },
  {
   "cell_type": "markdown",
   "metadata": {},
   "source": [
    "**(45 pts)** Now implement the training procedure of a regression tree using $RSS$ as split criteria. Build a rule tree recursively by traversing all features and considering each split threshold to find the optimum split, at every node.\n",
    "\n",
    "You are free to implement training procedure as a standalone function or part of a class, but in any case use maximum depth as the stopping condition."
   ]
  },
  {
   "cell_type": "markdown",
   "metadata": {},
   "source": [
    "**(15 pts)** Having implemented the regression tree, now write a procedure to predict test features. Given a sample, this procedure should follow the rules learned during the training to arrive at a leaf and predict the output as the mean output of the arrived leaf samples. \n",
    "\n",
    "If you have implemented a regression tree class, you can insert this procedure as a class function "
   ]
  },
  {
   "cell_type": "code",
   "execution_count": 11,
   "metadata": {},
   "outputs": [],
   "source": [
    "# In this two part I solved them in one algorithm while learning from data we create the nodes of tree at the same time\n",
    "# and the prediction function is find_leaf which exist in \"Node class\""
   ]
  },
  {
   "cell_type": "code",
   "execution_count": 12,
   "metadata": {},
   "outputs": [],
   "source": [
    "class Node:\n",
    "    def __init__(self,data,th,i,k,lm,rm):               # th : Threshold\n",
    "        self.data=data                                  # i  : Current index\n",
    "        self.i=i                                        # k  : Current Column(feature)\n",
    "        self.Left=None                                  # lm : Mean of Left data                          \n",
    "        self.Right=None                                 # rm : Mean of Right data\n",
    "        self.k=k\n",
    "        self.lm=lm              \n",
    "        self.rm=rm        \n",
    "        self.th=th\n",
    "    \n",
    "    def insert(self,data,th,i,k,lm,rm):                #Insert method takes the threshold and feature information and      \n",
    "        if(data.iloc[i,self.k]<self.th):               #creates the nodes after checking the position\n",
    "            if self.Left:\n",
    "                self.Left.insert(data,th,i,k,lm,rm)\n",
    "            else:\n",
    "                self.Left=Node(data,th,i,k,lm,rm)  \n",
    "        else:\n",
    "            if self.Right:\n",
    "                self.Right.insert(data,th,i,k,lm,rm)\n",
    "            else:\n",
    "                self.Right=Node(data,th,i,k,lm,rm) \n",
    "            \n",
    "            \n",
    "    def find_leaf(self,point):                        #This is the finder of leaves, we check every node that we create\n",
    "        if(self.th>point[self.k]):                    #and we reach the leaves at the very bottom\n",
    "            if self.Left:\n",
    "                \n",
    "                return self.Left.find_leaf(point)\n",
    "                \n",
    "            else:\n",
    "                return self.lm\n",
    "        else:\n",
    "            if self.Right:\n",
    "                 \n",
    "                return self.Right.find_leaf(point)\n",
    "            else:\n",
    "                return self.rm\n",
    "             \n",
    "            \n",
    "    \n",
    "    \n",
    "    \n",
    "    \n",
    "class Tree:                                           #This is the tree class we take the main root first and then\n",
    "    def __init__(self):                               #create the other nodes recursively through this root and \n",
    "        self.root= None                               #we call the functions from the \"tree class\"\n",
    "         \n",
    "    \n",
    "    def insert(self,data,th,i,k,lm,rm):\n",
    "        if self.root:\n",
    "            return self.root.insert(data,th,i,k,lm,rm)\n",
    "        else:\n",
    "            self.root=Node(data,th,i,k,lm,rm)\n",
    "    \n",
    "    \n",
    "    def find_leaf(self,point):\n",
    "        return self.root.find_leaf(point)"
   ]
  },
  {
   "cell_type": "code",
   "execution_count": 13,
   "metadata": {},
   "outputs": [],
   "source": [
    "def Splitter(df):           # splitter method take the data and visit all features one by one and create RSS score matrix\n",
    "                            # by doing so, find the column that gives us the lowest RSS and return the column and threshold \n",
    "    temp=999999\n",
    "        \n",
    "    for i in range(13):\n",
    "             \n",
    "        Score,_,threshold,threshold_index=RSS_Finder(df,i)\n",
    "        RSS_Value=Score[threshold_index]\n",
    "        if(RSS_Value<temp):\n",
    "            temp=RSS_Value\n",
    "            Current_Column=i\n",
    "            th=threshold\n",
    "            ind=threshold_index\n",
    "    \n",
    "    Left_Data=df[df.iloc[:,Current_Column]<=th]\n",
    "    Right_Data=df[df.iloc[:,Current_Column]>=th]\n",
    "            \n",
    "        \n",
    "    return Left_Data,Right_Data,th,Current_Column,ind\n",
    "\n",
    "\n",
    "\n",
    "def NodeMaker(data,max_depth,DepthCounter,mean,tree):       #NodeMaker as name indicates makes nodes and at the same time \n",
    "                                                            #we send the information to tree class in every turn recursively\n",
    "    if (DepthCounter==max_depth):\n",
    "        \n",
    "        return  \n",
    "    \n",
    "    Left_Data,Right_Data,threshold,Current_Column,index=Splitter(data)  # we split the data into two group here\n",
    "     \n",
    "    Left_Mean=np.mean(Left_Data.iloc[:,-1])                              #these are the means of splitted data \n",
    "    Right_Mean=np.mean(Right_Data.iloc[:,-1])                            #we store them, they will be a leaf at the end                         \n",
    "    \n",
    "    DepthCounter+=1                                             # stopping condition is max depth so every node we increase\n",
    "                                                                # counter and at the beginning we check and stop method\n",
    "    \n",
    "    tree.insert(data,threshold,index,Current_Column,Left_Mean,Right_Mean)  #we insert nodes to \"tree class\"\n",
    "    \n",
    "    if(Left_Data.iloc[:,-1].size>1):                                    # if number of remaning samples is less than two we\n",
    "        NodeMaker(Left_Data,max_depth,DepthCounter,Left_Mean,tree)      #we stop and the last data point become a leaf\n",
    "      \n",
    "    if(Right_Data.iloc[:,-1].size>1):\n",
    "        NodeMaker(Right_Data,max_depth,DepthCounter,Right_Mean,tree)\n",
    "     \n",
    "\n",
    "            \n",
    "\n",
    "\n"
   ]
  },
  {
   "cell_type": "markdown",
   "metadata": {},
   "source": [
    "**(5 pts)** Train your model using a max depth of 3 and visualize the resulting tree. You can use an external tool such as draw.io or LaTeX for drawing. Annotate the nodes with split columns and thresholds. You can view the tree in this [link](https://scikit-learn.org/stable/modules/tree.html#tree) as an example. "
   ]
  },
  {
   "cell_type": "code",
   "execution_count": 14,
   "metadata": {},
   "outputs": [],
   "source": [
    "def PrintNodes(data,max_depth,DepthCounter):       \n",
    "    if (DepthCounter==max_depth):\n",
    "        return  \n",
    "    \n",
    "    Left_Data,Right_Data,threshold,Current_Column,index=Splitter(data)  \n",
    "    print(\"Threshold is \",threshold)\n",
    "    print(\"Split Column is \",Current_Column)\n",
    "    \n",
    "    \n",
    "    DepthCounter+=1                             \n",
    "    \n",
    "    PrintNodes(Left_Data,max_depth,DepthCounter)    \n",
    "    PrintNodes(Right_Data,max_depth,DepthCounter)\n",
    "\n",
    "# I arranged the model and add print comments to learn node thresholds and split columns"
   ]
  },
  {
   "cell_type": "code",
   "execution_count": 15,
   "metadata": {},
   "outputs": [
    {
     "name": "stdout",
     "output_type": "stream",
     "text": [
      "Threshold is  6.678\n",
      "Split Column is  5\n",
      "Threshold is  14.43\n",
      "Split Column is  12\n",
      "Threshold is  1.5106\n",
      "Split Column is  7\n",
      "Threshold is  0.7842\n",
      "Split Column is  0\n",
      "Threshold is  7.42\n",
      "Split Column is  5\n",
      "Threshold is  9.71\n",
      "Split Column is  12\n",
      "Threshold is  18.0\n",
      "Split Column is  10\n"
     ]
    }
   ],
   "source": [
    "PrintNodes(df_train,3,0)"
   ]
  },
  {
   "cell_type": "code",
   "execution_count": 16,
   "metadata": {},
   "outputs": [
    {
     "data": {
      "text/plain": [
       "[<matplotlib.lines.Line2D at 0x1fbd6172808>]"
      ]
     },
     "execution_count": 16,
     "metadata": {},
     "output_type": "execute_result"
    },
    {
     "data": {
      "image/png": "[encoded data removed]",
      "text/plain": [
       "<Figure size 1440x720 with 1 Axes>"
      ]
     },
     "metadata": {
      "needs_background": "light"
     },
     "output_type": "display_data"
    }
   ],
   "source": [
    "import matplotlib.lines as lines\n",
    "fig=plt.figure(figsize=(20,10))\n",
    "\n",
    "#we now use scatter to plot data\n",
    "\n",
    "plt.scatter(295, df_train.iloc[295,-1] ,s=100,marker='P',color='red')\n",
    "plt.scatter(170, df_train.iloc[170,-1] ,s=100,marker='P',color='red')\n",
    "plt.scatter(367, df_train.iloc[367,-1] ,s=100,marker='P',color='red')\n",
    "plt.scatter(17, df_train.iloc[17,-1] ,s=100,marker='P',color='red')\n",
    "plt.scatter(306, df_train.iloc[306,-1] ,s=100,marker='P',color='red')\n",
    "plt.scatter(220, df_train.iloc[220,-1] ,s=100,marker='P',color='red')\n",
    "plt.scatter(96, df_train.iloc[96,-1] ,s=100,marker='P',color='red')\n",
    "plt.scatter(range(0,400), df_train.iloc[0:400,-1] ,marker='.',color='black')\n",
    "x1=17\n",
    "x2=96\n",
    "x3=170\n",
    "x4=220\n",
    "x5=295\n",
    "x6=306\n",
    "x7=367\n",
    "y4=df_train.iloc[220,-1]\n",
    "y3=df_train.iloc[170,-1]\n",
    "y7=df_train.iloc[367,-1]\n",
    "y1=df_train.iloc[17,-1]\n",
    "y5=df_train.iloc[295,-1]\n",
    "y6=df_train.iloc[306,-1] \n",
    "y2=df_train.iloc[96,-1] \n",
    " \n",
    "x_values  = [400,x7,x7,x7,x6,x6,x6,x6,x5,x5,x5,x5,x4,x4,x4,x4,x3,x3,x2,x2,x2,x1,x1,x1,x1,0]\n",
    "y_values =  [y7,y7,y7,y7,y7,y6,y6,y6,y6,y5,y5,y5,y5,y4,y4,y4,y4,y3,y3,y3,y2,y2,y2,y2,y1,y1]\n",
    "\n",
    "plt.plot(x_values,y_values)"
   ]
  },
  {
   "cell_type": "markdown",
   "metadata": {},
   "source": [
    "## **(10 pts)** Task 3: Evaluation"
   ]
  },
  {
   "cell_type": "markdown",
   "metadata": {},
   "source": [
    "**(5 pts)** Now is time to pick the best maximum depth and observe your tree's performance! Implement a 5-fold cross validation procedure to experiment with maximum depths from 3 to 10. Report mean and standard deviation for each depth and pick the best one. For comparison you can use $R^2$, which is a metric frequently used to evaluate regression models. You can use `r2_score` function of `scikit-learn` and read more [here](https://scikit-learn.org/stable/modules/model_evaluation.html#r2-score)."
   ]
  },
  {
   "cell_type": "code",
   "execution_count": 17,
   "metadata": {},
   "outputs": [],
   "source": [
    "# I splitted all data into 5 groups\n",
    "from sklearn.metrics import r2_score\n",
    "cv5_train=df.iloc[0:400,:]\n",
    "cv5_test=df.iloc[400:500,:]\n",
    "\n",
    "cv4_train=pd.DataFrame(np.concatenate((df.iloc[0:300,:],df.iloc[400:500,:])))\n",
    "cv4_test =df.iloc[300:400,:]\n",
    "\n",
    "cv3_train=pd.DataFrame(np.concatenate((df.iloc[0:200,:],df.iloc[300:500,:])))\n",
    "cv3_test=df.iloc[200:300,:]\n",
    "\n",
    "cv2_train=pd.DataFrame(np.concatenate((df.iloc[0:100,:],df.iloc[200:500,:])))\n",
    "cv2_test=df.iloc[100:200,:]\n",
    "\n",
    "cv1_train=df.iloc[100:500,:]\n",
    "cv1_test=df.iloc[0:100,:]\n",
    "\n",
    "def implement_CV(train_data,test_data,maxdepth):   #implement_cv train the data and use \"find_leaf\" method to predict\n",
    "    tree=Tree()\n",
    "     \n",
    "    NodeMaker(train_data,maxdepth,0,0,tree)\n",
    "\n",
    "    size=test_data.iloc[:,-1].size\n",
    "    prediction_matrix=np.zeros([size,1])\n",
    "\n",
    "    for i in range(size):\n",
    "        prediction_matrix[i]=tree.find_leaf(test_data.iloc[i,:]) # we send info into tree class\n",
    "    success=r2_score(test_data.iloc[:,-1],prediction_matrix) #report the R2 Score\n",
    "    return success\n",
    "\n",
    "def Evaluation(a,b):            # a and b values indicate the max depth, from a to b\n",
    "     \n",
    "    for i in range(a,b):\n",
    "        sum_of_rates=0\n",
    "        sum_of_rates+=implement_CV(cv1_train,cv1_test,i)\n",
    "        sum_of_rates+=implement_CV(cv2_train,cv2_test,i)\n",
    "        sum_of_rates+=implement_CV(cv3_train,cv3_test,i)\n",
    "        sum_of_rates+=implement_CV(cv4_train,cv4_test,i)\n",
    "        sum_of_rates+=implement_CV(cv5_train,cv5_test,i)\n",
    "        avg=sum_of_rates/5\n",
    "        \n",
    "        print(\"Average R2 score is \",avg,\"for max depth =\",i)"
   ]
  },
  {
   "cell_type": "code",
   "execution_count": 23,
   "metadata": {},
   "outputs": [
    {
     "name": "stdout",
     "output_type": "stream",
     "text": [
      "Average R2 score is  0.3871767729953754 for max depth = 3\n",
      "Average R2 score is  0.44533483289106834 for max depth = 4\n",
      "Average R2 score is  0.43504963643091327 for max depth = 5\n",
      "Average R2 score is  0.41273206225811165 for max depth = 6\n",
      "Average R2 score is  0.37606380456894206 for max depth = 7\n",
      "Average R2 score is  0.3767674906537989 for max depth = 8\n",
      "Average R2 score is  0.38471478210256493 for max depth = 9\n",
      "Wall time: 1h 36min 42s\n"
     ]
    }
   ],
   "source": [
    "%%time\n",
    "Evaluation(3,10) \n",
    "\n",
    "#we can see from cross validation reports, choosing max depth 4 is the best option\n",
    "\n",
    "\"\"\"It is too long to implement this cv process it takes more than one hours\"\"\"  "
   ]
  },
  {
   "cell_type": "markdown",
   "metadata": {},
   "source": [
    "\n",
    "**(5 pts)** To conclude, train your tree one last time on the whole training data with the depth you picked in the previous section. Generate predictions on both training and test sets and report $R^2$ scores."
   ]
  },
  {
   "cell_type": "code",
   "execution_count": 18,
   "metadata": {},
   "outputs": [],
   "source": [
    "trainseed1=pd.DataFrame(X_train,columns=feats)             # since i implemented all algorithms with prices column inside\n",
    "trainseed1.insert(loc=13,column=\"Prices\",value=y_train)    # the data frame, i  merged X and y values here\n",
    "\n",
    "testseed1=pd.DataFrame(X_test,columns=feats)\n",
    "testseed1.insert(loc=13,column=\"Prices\",value=y_test)\n"
   ]
  },
  {
   "cell_type": "code",
   "execution_count": 21,
   "metadata": {},
   "outputs": [
    {
     "name": "stdout",
     "output_type": "stream",
     "text": [
      "R2 score for training data 0.8872480995080804\n"
     ]
    }
   ],
   "source": [
    "r2score=implement_CV(df_train,df_train,4)  \n",
    "print(\"R2 score for training data\",r2score)"
   ]
  },
  {
   "cell_type": "code",
   "execution_count": 20,
   "metadata": {},
   "outputs": [
    {
     "name": "stdout",
     "output_type": "stream",
     "text": [
      "R2 score for testing data 0.8489128956326658\n"
     ]
    }
   ],
   "source": [
    "r2score=implement_CV(trainseed1,testseed1,4)  \n",
    "print(\"R2 score for testing data\",r2score)"
   ]
  }
 ],
 "metadata": {
  "kernelspec": {
   "display_name": "Python 3",
   "language": "python",
   "name": "python3"
  },
  "language_info": {
   "codemirror_mode": {
    "name": "ipython",
    "version": 3
   },
   "file_extension": ".py",
   "mimetype": "text/x-python",
   "name": "python",
   "nbconvert_exporter": "python",
   "pygments_lexer": "ipython3",
   "version": "3.7.6"
  }
 },
 "nbformat": 4,
 "nbformat_minor": 4
}
